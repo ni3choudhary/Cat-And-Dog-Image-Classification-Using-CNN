{
 "cells": [
  {
   "cell_type": "markdown",
   "metadata": {
    "colab_type": "text",
    "id": "FhGO1j6o3NAR"
   },
   "source": [
    "# **Cats and Dogs Classification**\n",
    "*Classifying whether a given image is of a cat or a dog using Convolution Neural Network (CNN)*\n",
    "\n",
    "*Dataset Link: https://www.kaggle.com/tongpython/cat-and-dog*"
   ]
  },
  {
   "cell_type": "markdown",
   "metadata": {
    "colab_type": "text",
    "id": "oxQxCBWyoGPE"
   },
   "source": [
    "## Part 1 - Data Preprocessing"
   ]
  },
  {
   "cell_type": "code",
   "execution_count": 2,
   "metadata": {
    "colab": {
     "base_uri": "https://localhost:8080/",
     "height": 35
    },
    "colab_type": "code",
    "id": "cCl2fxSle5bd",
    "outputId": "c9b4e4c7-c926-4d3b-ed3d-e3ce0e92ecc5"
   },
   "outputs": [],
   "source": [
    "# Importing essential libraries\n",
    "import pandas as pd\n",
    "import numpy as np\n",
    "import matplotlib.pyplot as plt\n",
    "import seaborn as sns\n",
    "%matplotlib inline\n",
    "\n",
    "# Importing tensorflow libraries\n",
    "from tensorflow.keras.preprocessing.image import ImageDataGenerator\n",
    "from tensorflow.keras.preprocessing import image\n",
    "from tensorflow.keras.models import Sequential\n",
    "from tensorflow.keras.layers import Conv2D, MaxPool2D, Flatten, Dense\n",
    "\n",
    "import warnings\n",
    "warnings.filterwarnings('ignore')"
   ]
  },
  {
   "cell_type": "code",
   "execution_count": 3,
   "metadata": {
    "colab": {
     "base_uri": "https://localhost:8080/",
     "height": 35
    },
    "colab_type": "code",
    "id": "ZJxhZhkNWsqq",
    "outputId": "082c19fb-e4af-4051-f58f-4cd5965c6e80"
   },
   "outputs": [
    {
     "name": "stdout",
     "output_type": "stream",
     "text": [
      "Found 8005 images belonging to 2 classes.\n"
     ]
    }
   ],
   "source": [
    "# Preprocessing the Training set\n",
    "\n",
    "# Data Augmentation\n",
    "train_datagen = ImageDataGenerator(rescale=1./255,\n",
    "                                   shear_range=0.2,\n",
    "                                   zoom_range=0.2,\n",
    "                                   horizontal_flip=True)\n",
    "\n",
    "# Importing Training set\n",
    "training_set = train_datagen.flow_from_directory('./Dataset/training_set',\n",
    "                                                    target_size=(64, 64),\n",
    "                                                    batch_size=32,\n",
    "                                                    class_mode='binary')"
   ]
  },
  {
   "cell_type": "code",
   "execution_count": 4,
   "metadata": {
    "colab": {
     "base_uri": "https://localhost:8080/",
     "height": 35
    },
    "colab_type": "code",
    "id": "L2lFLWIrXqQS",
    "outputId": "b6960323-73a5-4308-dc7c-5dcb94812f22"
   },
   "outputs": [
    {
     "name": "stdout",
     "output_type": "stream",
     "text": [
      "Found 2023 images belonging to 2 classes.\n"
     ]
    }
   ],
   "source": [
    "# Preprocessing the Test set\n",
    "\n",
    "# Feature Scaling\n",
    "test_datagen = ImageDataGenerator(rescale=1./255)\n",
    "\n",
    "# Importing Test set\n",
    "test_set = test_datagen.flow_from_directory('./Dataset/test_set',\n",
    "                                            target_size=(64, 64),\n",
    "                                            batch_size=32,\n",
    "                                            class_mode='binary')"
   ]
  },
  {
   "cell_type": "markdown",
   "metadata": {
    "colab_type": "text",
    "id": "af8O4l90gk7B"
   },
   "source": [
    "## Part 2 - Building the CNN"
   ]
  },
  {
   "cell_type": "code",
   "execution_count": 5,
   "metadata": {},
   "outputs": [],
   "source": [
    "# Initialising the CNN\n",
    "cnn = Sequential()\n",
    "# Step 1 - Add Convolution Layer\n",
    "cnn.add(Conv2D(filters=32, kernel_size=3, activation='relu', input_shape=[64, 64, 3]))\n",
    "# Step 2 - Add Pooling Layer\n",
    "cnn.add(MaxPool2D(pool_size=2, strides=2))\n",
    "# Add second onvolutional layer with pooling\n",
    "cnn.add(Conv2D(filters=32, kernel_size=3, activation='relu'))\n",
    "cnn.add(MaxPool2D(pool_size=2, strides=2))\n",
    "# Step 3 - Add Flattening Layer\n",
    "cnn.add(Flatten())\n",
    "# Step 4 - Add Full Connected Layer\n",
    "cnn.add(Dense(units=128, activation='relu'))\n",
    "# Step 5 - Add Output Layer\n",
    "cnn.add(Dense(units=1, activation='sigmoid'))"
   ]
  },
  {
   "cell_type": "code",
   "execution_count": 6,
   "metadata": {
    "colab": {},
    "colab_type": "code",
    "id": "YhQVckrfZWFc"
   },
   "outputs": [
    {
     "name": "stdout",
     "output_type": "stream",
     "text": [
      "Model: \"sequential\"\n",
      "_________________________________________________________________\n",
      "Layer (type)                 Output Shape              Param #   \n",
      "=================================================================\n",
      "conv2d (Conv2D)              (None, 62, 62, 32)        896       \n",
      "_________________________________________________________________\n",
      "max_pooling2d (MaxPooling2D) (None, 31, 31, 32)        0         \n",
      "_________________________________________________________________\n",
      "conv2d_1 (Conv2D)            (None, 29, 29, 32)        9248      \n",
      "_________________________________________________________________\n",
      "max_pooling2d_1 (MaxPooling2 (None, 14, 14, 32)        0         \n",
      "_________________________________________________________________\n",
      "flatten (Flatten)            (None, 6272)              0         \n",
      "_________________________________________________________________\n",
      "dense (Dense)                (None, 128)               802944    \n",
      "_________________________________________________________________\n",
      "dense_1 (Dense)              (None, 1)                 129       \n",
      "=================================================================\n",
      "Total params: 813,217\n",
      "Trainable params: 813,217\n",
      "Non-trainable params: 0\n",
      "_________________________________________________________________\n"
     ]
    }
   ],
   "source": [
    "cnn.summary()"
   ]
  },
  {
   "cell_type": "markdown",
   "metadata": {
    "colab_type": "text",
    "id": "D6XkI90snSDl"
   },
   "source": [
    "## Part 3 - Training the CNN"
   ]
  },
  {
   "cell_type": "code",
   "execution_count": 7,
   "metadata": {
    "colab": {},
    "colab_type": "code",
    "id": "xUG0Mo7mdwPt"
   },
   "outputs": [],
   "source": [
    "# Compiling the CNN\n",
    "cnn.compile(optimizer='adam', loss='binary_crossentropy', metrics=['accuracy'])"
   ]
  },
  {
   "cell_type": "code",
   "execution_count": 8,
   "metadata": {
    "colab": {
     "base_uri": "https://localhost:8080/",
     "height": 941
    },
    "colab_type": "code",
    "id": "Emku4-AeeBNU",
    "outputId": "93c4a48b-110d-4c9b-8da8-e1ae7c2675d4"
   },
   "outputs": [
    {
     "name": "stdout",
     "output_type": "stream",
     "text": [
      "Epoch 1/25\n",
      "251/251 [==============================] - 97s 385ms/step - loss: 0.6777 - accuracy: 0.5714 - val_loss: 0.6607 - val_accuracy: 0.6130\n",
      "Epoch 2/25\n",
      "251/251 [==============================] - 90s 359ms/step - loss: 0.6446 - accuracy: 0.6322 - val_loss: 0.6252 - val_accuracy: 0.6673\n",
      "Epoch 3/25\n",
      "251/251 [==============================] - 81s 323ms/step - loss: 0.6000 - accuracy: 0.6788 - val_loss: 0.7040 - val_accuracy: 0.6228\n",
      "Epoch 4/25\n",
      "251/251 [==============================] - 82s 327ms/step - loss: 0.5639 - accuracy: 0.7086 - val_loss: 0.6187 - val_accuracy: 0.6980\n",
      "Epoch 5/25\n",
      "251/251 [==============================] - 81s 324ms/step - loss: 0.5296 - accuracy: 0.7358 - val_loss: 0.5432 - val_accuracy: 0.7449\n",
      "Epoch 6/25\n",
      "251/251 [==============================] - 82s 326ms/step - loss: 0.4898 - accuracy: 0.7620 - val_loss: 0.5036 - val_accuracy: 0.7617\n",
      "Epoch 7/25\n",
      "251/251 [==============================] - 84s 334ms/step - loss: 0.4719 - accuracy: 0.7661 - val_loss: 0.5013 - val_accuracy: 0.7706\n",
      "Epoch 8/25\n",
      "251/251 [==============================] - 84s 334ms/step - loss: 0.4482 - accuracy: 0.7868 - val_loss: 0.4848 - val_accuracy: 0.7785\n",
      "Epoch 9/25\n",
      "251/251 [==============================] - 81s 323ms/step - loss: 0.4323 - accuracy: 0.7978 - val_loss: 0.4773 - val_accuracy: 0.7781\n",
      "Epoch 10/25\n",
      "251/251 [==============================] - 80s 320ms/step - loss: 0.4174 - accuracy: 0.8094 - val_loss: 0.4651 - val_accuracy: 0.7894\n",
      "Epoch 11/25\n",
      "251/251 [==============================] - 84s 336ms/step - loss: 0.3990 - accuracy: 0.8157 - val_loss: 0.4671 - val_accuracy: 0.7865\n",
      "Epoch 12/25\n",
      "251/251 [==============================] - 120s 479ms/step - loss: 0.3778 - accuracy: 0.8304 - val_loss: 0.4937 - val_accuracy: 0.7825\n",
      "Epoch 13/25\n",
      "251/251 [==============================] - 81s 323ms/step - loss: 0.3583 - accuracy: 0.8382 - val_loss: 0.4655 - val_accuracy: 0.7929\n",
      "Epoch 14/25\n",
      "251/251 [==============================] - 87s 345ms/step - loss: 0.3441 - accuracy: 0.8467 - val_loss: 0.4806 - val_accuracy: 0.7825\n",
      "Epoch 15/25\n",
      "251/251 [==============================] - 89s 355ms/step - loss: 0.3176 - accuracy: 0.8650 - val_loss: 0.5042 - val_accuracy: 0.7726\n",
      "Epoch 16/25\n",
      "251/251 [==============================] - 111s 442ms/step - loss: 0.3132 - accuracy: 0.8612 - val_loss: 0.5013 - val_accuracy: 0.7870\n",
      "Epoch 17/25\n",
      "251/251 [==============================] - 89s 354ms/step - loss: 0.2838 - accuracy: 0.8788 - val_loss: 0.5225 - val_accuracy: 0.7884\n",
      "Epoch 18/25\n",
      "251/251 [==============================] - 93s 372ms/step - loss: 0.2762 - accuracy: 0.8833 - val_loss: 0.5029 - val_accuracy: 0.7914\n",
      "Epoch 19/25\n",
      "251/251 [==============================] - 87s 345ms/step - loss: 0.2493 - accuracy: 0.8939 - val_loss: 0.5513 - val_accuracy: 0.7790\n",
      "Epoch 20/25\n",
      "251/251 [==============================] - 83s 331ms/step - loss: 0.2395 - accuracy: 0.8992 - val_loss: 0.5442 - val_accuracy: 0.7830\n",
      "Epoch 21/25\n",
      "251/251 [==============================] - 84s 334ms/step - loss: 0.2222 - accuracy: 0.9108 - val_loss: 0.5751 - val_accuracy: 0.7914\n",
      "Epoch 22/25\n",
      "251/251 [==============================] - 85s 340ms/step - loss: 0.2059 - accuracy: 0.9182 - val_loss: 0.5529 - val_accuracy: 0.7968\n",
      "Epoch 23/25\n",
      "251/251 [==============================] - 86s 342ms/step - loss: 0.1926 - accuracy: 0.9264 - val_loss: 0.5631 - val_accuracy: 0.7929\n",
      "Epoch 24/25\n",
      "251/251 [==============================] - 85s 338ms/step - loss: 0.1817 - accuracy: 0.9287 - val_loss: 0.5793 - val_accuracy: 0.7939\n",
      "Epoch 25/25\n",
      "251/251 [==============================] - 85s 337ms/step - loss: 0.1722 - accuracy: 0.9317 - val_loss: 0.6037 - val_accuracy: 0.7860\n"
     ]
    }
   ],
   "source": [
    "# Training the CNN on the Training set and evaluating it on the Test set\n",
    "model_history = cnn.fit(x=training_set, validation_data=test_set, epochs=25)"
   ]
  },
  {
   "cell_type": "markdown",
   "metadata": {
    "colab_type": "text",
    "id": "U3PZasO0006Z"
   },
   "source": [
    "## Part 4 - Model Evaluation"
   ]
  },
  {
   "cell_type": "code",
   "execution_count": 9,
   "metadata": {
    "colab": {
     "base_uri": "https://localhost:8080/",
     "height": 35
    },
    "colab_type": "code",
    "id": "41AOhxxF_KB8",
    "outputId": "906192ff-53ef-4415-ae04-760bbd2b8cf1"
   },
   "outputs": [
    {
     "name": "stdout",
     "output_type": "stream",
     "text": [
      "dict_keys(['loss', 'accuracy', 'val_loss', 'val_accuracy'])\n"
     ]
    }
   ],
   "source": [
    "# List all data in history\n",
    "print(model_history.history.keys())"
   ]
  },
  {
   "cell_type": "code",
   "execution_count": 11,
   "metadata": {
    "colab": {
     "base_uri": "https://localhost:8080/",
     "height": 513
    },
    "colab_type": "code",
    "id": "jj_bJ1le_XVJ",
    "outputId": "52c985f8-bc93-4774-9426-0b85665edc64"
   },
   "outputs": [
    {
     "data": {
      "text/plain": [
       "<matplotlib.legend.Legend at 0x1b8447f2088>"
      ]
     },
     "execution_count": 11,
     "metadata": {},
     "output_type": "execute_result"
    },
    {
     "data": {
      "image/png": "[encoded data removed]",
      "text/plain": [
       "<Figure size 1008x360 with 2 Axes>"
      ]
     },
     "metadata": {
      "needs_background": "light"
     },
     "output_type": "display_data"
    }
   ],
   "source": [
    "# Summarize history for accuracy\n",
    "\n",
    "fig, (ax1, ax2) = plt.subplots(nrows=1, ncols=2, figsize=(14, 5))\n",
    "ax1.plot(model_history.history['loss'], label='Train Loss')\n",
    "ax1.plot(model_history.history['val_loss'], label='Val Loss')\n",
    "\n",
    "ax1.legend() \n",
    "\n",
    "ax2.plot(model_history.history['accuracy'], label='Train Accuracy')\n",
    "ax2.plot(model_history.history['val_accuracy'], label='Val Accuracy')\n",
    "\n",
    "ax2.legend()"
   ]
  },
  {
   "cell_type": "markdown",
   "metadata": {
    "colab_type": "text",
    "id": "e0wEcJkZ_B66"
   },
   "source": [
    "## Part 5 - Making Predictions"
   ]
  },
  {
   "cell_type": "markdown",
   "metadata": {
    "colab_type": "text",
    "id": "X7yFJ_L3dgdm"
   },
   "source": [
    "### Prediction 1\n",
    "\n",
    "*Predicting the following image:*\n",
    "\n",
    "<img src='https://drive.google.com/uc?id=1eTA9tOoKb0OJwVUhQKB68QiuzWlAGUQA' width='400px' height='300px'/>"
   ]
  },
  {
   "cell_type": "code",
   "execution_count": 12,
   "metadata": {
    "colab": {
     "base_uri": "https://localhost:8080/",
     "height": 35
    },
    "colab_type": "code",
    "id": "tBlqA6N0dlq_",
    "outputId": "72f7f8ed-6ec9-471d-9838-ee91a689cc06"
   },
   "outputs": [
    {
     "name": "stdout",
     "output_type": "stream",
     "text": [
      "Prediction: It's a Cat's image.\n"
     ]
    }
   ],
   "source": [
    "test_image = image.load_img('./Dataset/Prediction/cat_or_dog_1.jpg', target_size = (64, 64))\n",
    "test_image = image.img_to_array(test_image)\n",
    "test_image = np.expand_dims(test_image, axis = 0)\n",
    "result = cnn.predict(test_image)\n",
    "\n",
    "if result[0][0] == 1:\n",
    "  print(\"Prediction: It's a Dog's image.\")\n",
    "else:\n",
    "  print(\"Prediction: It's a Cat's image.\")"
   ]
  },
  {
   "cell_type": "markdown",
   "metadata": {
    "colab_type": "text",
    "id": "JR0N0OE7Dxcj"
   },
   "source": [
    "### Prediction 2\n",
    "\n",
    "*Predicting the following image:*\n",
    "\n",
    "<img src=\"https://drive.google.com/uc?id=1FxykYvoG5x2ob0uZClJAMv6006fz3Unf\" width=\"450px\" height=\"300px\"/>"
   ]
  },
  {
   "cell_type": "code",
   "execution_count": 13,
   "metadata": {
    "colab": {
     "base_uri": "https://localhost:8080/",
     "height": 35
    },
    "colab_type": "code",
    "id": "7cK2fwXVdo-h",
    "outputId": "ae25b9ad-c2d4-4042-9232-f27cc97d7b4d"
   },
   "outputs": [
    {
     "name": "stdout",
     "output_type": "stream",
     "text": [
      "Prediction: It's a Dog's image.\n"
     ]
    }
   ],
   "source": [
    "test_image = image.load_img('./Dataset/Prediction/cat_or_dog_2.jpg', target_size = (64, 64))\n",
    "test_image = image.img_to_array(test_image)\n",
    "test_image = np.expand_dims(test_image, axis = 0)\n",
    "result = cnn.predict(test_image)\n",
    "\n",
    "if result[0][0] == 1:\n",
    "  print(\"Prediction: It's a Dog's image.\")\n",
    "else:\n",
    "  print(\"Prediction: It's a Cat's image.\")"
   ]
  },
  {
   "cell_type": "markdown",
   "metadata": {
    "colab_type": "text",
    "id": "m0RB22sJEY7d"
   },
   "source": [
    "### Prediction 3\n",
    "\n",
    "*Predicting the following image:*\n",
    "\n",
    "<img src=\"https://drive.google.com/uc?id=1heVtXw_DN4iNhe17sWYbXFz4OEryo0l9\" width=\"450px\" height=\"300px\"/>"
   ]
  },
  {
   "cell_type": "code",
   "execution_count": 14,
   "metadata": {
    "colab": {
     "base_uri": "https://localhost:8080/",
     "height": 35
    },
    "colab_type": "code",
    "id": "ejysEBAddtdu",
    "outputId": "ffa4e251-cae9-4725-d01f-1b8a6b2ae7df"
   },
   "outputs": [
    {
     "name": "stdout",
     "output_type": "stream",
     "text": [
      "Prediction: It's a Dog's image.\n"
     ]
    }
   ],
   "source": [
    "test_image = image.load_img('./Dataset/Prediction/cat_or_dog_3.jpg', target_size = (64, 64))\n",
    "test_image = image.img_to_array(test_image)\n",
    "test_image = np.expand_dims(test_image, axis = 0)\n",
    "result = cnn.predict(test_image)\n",
    "\n",
    "if result[0][0] == 1:\n",
    "  print(\"Prediction: It's a Dog's image.\")\n",
    "else:\n",
    "  print(\"Prediction: It's a Cat's image.\")"
   ]
  },
  {
   "cell_type": "markdown",
   "metadata": {
    "colab_type": "text",
    "id": "FxGbKM6WGFqr"
   },
   "source": [
    "### Prediction 4\n",
    "\n",
    "*Predicting the following image:*\n",
    "\n",
    "<img src=\"https://drive.google.com/uc?id=1zJ8yiKX1MFTYvGdMfWCPOG351E5hyEEX\" width=\"450px\" height=\"400px\"/>"
   ]
  },
  {
   "cell_type": "code",
   "execution_count": 15,
   "metadata": {
    "colab": {
     "base_uri": "https://localhost:8080/",
     "height": 35
    },
    "colab_type": "code",
    "id": "pVGP7mjXdwr2",
    "outputId": "da6c9137-ffd3-40eb-a89e-afba1237bfc0"
   },
   "outputs": [
    {
     "name": "stdout",
     "output_type": "stream",
     "text": [
      "Prediction: It's a Cat's image.\n"
     ]
    }
   ],
   "source": [
    "test_image = image.load_img('./Dataset/Prediction/cat_or_dog_4.jpg', target_size = (64, 64))\n",
    "test_image = image.img_to_array(test_image)\n",
    "test_image = np.expand_dims(test_image, axis = 0)\n",
    "result = cnn.predict(test_image)\n",
    "\n",
    "if result[0][0] == 1:\n",
    "  print(\"Prediction: It's a Dog's image.\")\n",
    "else:\n",
    "  print(\"Prediction: It's a Cat's image.\")"
   ]
  },
  {
   "cell_type": "code",
   "execution_count": null,
   "metadata": {},
   "outputs": [],
   "source": []
  }
 ],
 "metadata": {
  "accelerator": "TPU",
  "colab": {
   "collapsed_sections": [],
   "name": "Cats vs. Dogs Classifier.ipynb",
   "provenance": []
  },
  "kernelspec": {
   "display_name": "Python 3",
   "language": "python",
   "name": "python3"
  },
  "language_info": {
   "codemirror_mode": {
    "name": "ipython",
    "version": 3
   },
   "file_extension": ".py",
   "mimetype": "text/x-python",
   "name": "python",
   "nbconvert_exporter": "python",
   "pygments_lexer": "ipython3",
   "version": "3.7.7"
  }
 },
 "nbformat": 4,
 "nbformat_minor": 1
}
